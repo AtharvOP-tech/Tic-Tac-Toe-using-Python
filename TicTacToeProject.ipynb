{
 "cells": [
  {
   "cell_type": "code",
   "execution_count": 177,
   "id": "37424700-8955-44ca-9b39-b08972f9137f",
   "metadata": {},
   "outputs": [
    {
     "data": {
      "text/plain": [
       "\"\\nfrom IPython.display import clear_output\\ndef display_board(board):\\n    print(board[7]+'|'+ board[8]+'|'+board[9])\\n    print(board[4]+'|'+ board[5]+'|'+board[6])\\n    print(board[1]+'|'+ board[2]+'|'+board[3])\\n    \""
      ]
     },
     "execution_count": 177,
     "metadata": {},
     "output_type": "execute_result"
    }
   ],
   "source": [
    "'''\n",
    "from IPython.display import clear_output\n",
    "def display_board(board):\n",
    "    print(board[7]+'|'+ board[8]+'|'+board[9])\n",
    "    print(board[4]+'|'+ board[5]+'|'+board[6])\n",
    "    print(board[1]+'|'+ board[2]+'|'+board[3])\n",
    "    '''"
   ]
  },
  {
   "cell_type": "code",
   "execution_count": 179,
   "id": "3c7e7e54-0653-4674-96de-a1d2ec432559",
   "metadata": {},
   "outputs": [
    {
     "data": {
      "text/plain": [
       "\"test_board=['#','X','O','X','O','X','O','X','O','X']\\ndisplay_board(test_board)\""
      ]
     },
     "execution_count": 179,
     "metadata": {},
     "output_type": "execute_result"
    }
   ],
   "source": [
    "'''test_board=['#','X','O','X','O','X','O','X','O','X']\n",
    "display_board(test_board)'''"
   ]
  },
  {
   "cell_type": "code",
   "execution_count": 181,
   "id": "1c9136ab-95e5-44bb-9a1c-3d3cf9bf7298",
   "metadata": {},
   "outputs": [
    {
     "data": {
      "text/plain": [
       "\"def player_input():\\n    marker= ''\\n    #Keep Asking Player 1 to Choose X or O\\n\\n    while marker!='X' and marker!='O':\\n        marker=input('Player 1, Choose X or O: ')\\n    \\n    #Assign Player 2, the Opposite Marker\\n    player1=marker\\n\\n    if player1=='X':\\n        player2='O'\\n    else:\\n        player2='X'\\n    return(player1,player2)\\n    \""
      ]
     },
     "execution_count": 181,
     "metadata": {},
     "output_type": "execute_result"
    }
   ],
   "source": [
    "'''def player_input():\n",
    "    marker= ''\n",
    "    #Keep Asking Player 1 to Choose X or O\n",
    "\n",
    "    while marker!='X' and marker!='O':\n",
    "        marker=input('Player 1, Choose X or O: ')\n",
    "    \n",
    "    #Assign Player 2, the Opposite Marker\n",
    "    player1=marker\n",
    "\n",
    "    if player1=='X':\n",
    "        player2='O'\n",
    "    else:\n",
    "        player2='X'\n",
    "    return(player1,player2)\n",
    "    '''"
   ]
  },
  {
   "cell_type": "code",
   "execution_count": 183,
   "id": "abc2e006-318c-445e-bc07-5b186ee4a2b3",
   "metadata": {},
   "outputs": [
    {
     "data": {
      "text/plain": [
       "'player1_marker,player2_marker=player_input()'"
      ]
     },
     "execution_count": 183,
     "metadata": {},
     "output_type": "execute_result"
    }
   ],
   "source": [
    "'''player1_marker,player2_marker=player_input()'''"
   ]
  },
  {
   "cell_type": "code",
   "execution_count": 185,
   "id": "6b2ebeb2-baba-47b6-8d49-f3994cebded9",
   "metadata": {},
   "outputs": [
    {
     "data": {
      "text/plain": [
       "'player2_marker'"
      ]
     },
     "execution_count": 185,
     "metadata": {},
     "output_type": "execute_result"
    }
   ],
   "source": [
    "'''player2_marker'''"
   ]
  },
  {
   "cell_type": "code",
   "execution_count": 1,
   "id": "88533757-fa28-44da-bf85-3929e794bb11",
   "metadata": {},
   "outputs": [],
   "source": [
    "#NEW"
   ]
  },
  {
   "cell_type": "code",
   "execution_count": 19,
   "id": "73bba509-ca02-4348-9f15-09b4dfc5fff6",
   "metadata": {},
   "outputs": [],
   "source": [
    "from IPython.display import clear_output\n",
    "\n",
    "def display_board(board):\n",
    "    clear_output()\n",
    "    print('   |   |')\n",
    "    print(' '+board[7]+' | '+ board[8]+' | '+board[9])\n",
    "    print('   |   |')\n",
    "    print('-----------')\n",
    "    print('   |   |')\n",
    "    print(' '+board[4]+' | '+ board[5]+' | '+board[6])\n",
    "    print('   |   |')\n",
    "    print('-----------')\n",
    "    print('   |   |')\n",
    "    print(' '+board[1]+' | '+ board[2]+' | '+board[3])\n",
    "    print('   |   |')"
   ]
  },
  {
   "cell_type": "code",
   "execution_count": 21,
   "id": "6b4e428b-a1cf-460d-8b22-44f03938b000",
   "metadata": {},
   "outputs": [
    {
     "name": "stdout",
     "output_type": "stream",
     "text": [
      "   |   |\n",
      " X | O | X\n",
      "   |   |\n",
      "-----------\n",
      "   |   |\n",
      " O | X | O\n",
      "   |   |\n",
      "-----------\n",
      "   |   |\n",
      " X | O | X\n",
      "   |   |\n"
     ]
    }
   ],
   "source": [
    "test_board=['#','X','O','X','O','X','O','X','O','X']\n",
    "display_board(test_board)\n",
    "display_board(test_board)"
   ]
  },
  {
   "cell_type": "code",
   "execution_count": 23,
   "id": "4f06059c-3e4e-4a28-9098-ee15a5a5d8fa",
   "metadata": {},
   "outputs": [],
   "source": [
    "def player_input():\n",
    "    '''\n",
    "    OUTPUT=(Player 1 marker , Player 2 marker)\n",
    "    '''\n",
    "\n",
    "    \n",
    "    marker= ' '\n",
    "    #Keep Asking Player 1 to Choose X or O\n",
    "\n",
    "    while not(marker=='X' or marker=='O'):\n",
    "        marker=input('Player 1, Choose X or O: ').upper()\n",
    "\n",
    "    if marker=='X':\n",
    "        return ('X','O')\n",
    "    else:\n",
    "        return ('O','X')"
   ]
  },
  {
   "cell_type": "code",
   "execution_count": 25,
   "id": "9f3cbcc5-b5b4-4eac-bdc2-f891a5a95619",
   "metadata": {},
   "outputs": [
    {
     "name": "stdin",
     "output_type": "stream",
     "text": [
      "Player 1, Choose X or O:  O\n"
     ]
    }
   ],
   "source": [
    "player1_marker,player2_marker=player_input()"
   ]
  },
  {
   "cell_type": "code",
   "execution_count": 107,
   "id": "aa7fce5a-06fe-4496-be58-660114bb6b15",
   "metadata": {},
   "outputs": [],
   "source": [
    "#STEP 3: Write a function takes in the board list object, a marker('X' or 'O'),and a desired position(number1-9)and assigns it to the board"
   ]
  },
  {
   "cell_type": "code",
   "execution_count": 27,
   "id": "f50a7cc0-ffc7-406b-ac95-0fe7e818a88f",
   "metadata": {},
   "outputs": [],
   "source": [
    "def place_marker(board,marker,position):\n",
    "\n",
    "    board[position]=marker"
   ]
  },
  {
   "cell_type": "code",
   "execution_count": null,
   "id": "44b61adc-3de8-409f-8c50-b9002d360e36",
   "metadata": {},
   "outputs": [],
   "source": [
    "#TEST step 3"
   ]
  },
  {
   "cell_type": "code",
   "execution_count": 29,
   "id": "c55a190d-3ae6-4e2e-82a1-bb19f4ab31dc",
   "metadata": {},
   "outputs": [
    {
     "data": {
      "text/plain": [
       "['#', 'X', 'O', 'X', 'O', 'X', 'O', 'X', 'O', 'X']"
      ]
     },
     "execution_count": 29,
     "metadata": {},
     "output_type": "execute_result"
    }
   ],
   "source": [
    "test_board"
   ]
  },
  {
   "cell_type": "code",
   "execution_count": 219,
   "id": "05bdff54-3301-4e41-85dd-d3cce5cab488",
   "metadata": {},
   "outputs": [
    {
     "name": "stdout",
     "output_type": "stream",
     "text": [
      "   |   |\n",
      " X | $ | X\n",
      "   |   |\n",
      "-----------\n",
      "   |   |\n",
      " O | X | O\n",
      "   |   |\n",
      "-----------\n",
      "   |   |\n",
      " X | O | X\n",
      "   |   |\n"
     ]
    }
   ],
   "source": [
    "place_marker(test_board,'$',8)\n",
    "display_board(test_board)"
   ]
  },
  {
   "cell_type": "code",
   "execution_count": 97,
   "id": "a903a839-6f03-4163-8fee-ecdc838f8001",
   "metadata": {},
   "outputs": [],
   "source": [
    "#STEP 4:Write a function that takes in a board and a mark (X or O) and then checks to see if that marker has won"
   ]
  },
  {
   "cell_type": "code",
   "execution_count": 31,
   "id": "a8713243-f0fb-4c05-a2e1-2f8cc5de21fd",
   "metadata": {},
   "outputs": [],
   "source": [
    "def win_check(board, mark):\n",
    "    \n",
    "    #WIN TIC TAC TOE?\n",
    "\n",
    "    #ALL ROWS, and check to see if they all share the same marker.\n",
    "    return((board[1]==mark and board[2]==mark and board[3]==mark) or \n",
    "    (board[4]==mark and board[5]==mark and board[6]==mark) or \n",
    "    (board[7]==mark and board[8]==mark and board[9]==mark) or\n",
    "    #ALL COLUMNS, and check to see if they all share the same marker.\n",
    "    (board[1]==mark and board[4]==mark and board[7]==mark) or \n",
    "    (board[2]==mark and board[5]==mark and board[8]==mark) or \n",
    "    (board[3]==mark and board[6]==mark and board[9]==mark) or\n",
    "    #2 Diagonals , checks to see match\n",
    "    (board[1]==mark and board[5]==mark and board[9]==mark) or \n",
    "    (board[3]==mark and board[2]==mark and board[3]==mark))\n",
    "    "
   ]
  },
  {
   "cell_type": "code",
   "execution_count": 33,
   "id": "9928723a-0b5c-4a09-be23-ed1ee13147e1",
   "metadata": {},
   "outputs": [
    {
     "data": {
      "text/plain": [
       "True"
      ]
     },
     "execution_count": 33,
     "metadata": {},
     "output_type": "execute_result"
    }
   ],
   "source": [
    "win_check(test_board,'X')"
   ]
  },
  {
   "cell_type": "code",
   "execution_count": 37,
   "id": "40daa6cf-626a-4b37-aeac-d40afd992187",
   "metadata": {},
   "outputs": [
    {
     "name": "stdout",
     "output_type": "stream",
     "text": [
      "   |   |\n",
      " X | O | X\n",
      "   |   |\n",
      "-----------\n",
      "   |   |\n",
      " O | X | O\n",
      "   |   |\n",
      "-----------\n",
      "   |   |\n",
      " X | O | X\n",
      "   |   |\n"
     ]
    },
    {
     "data": {
      "text/plain": [
       "True"
      ]
     },
     "execution_count": 37,
     "metadata": {},
     "output_type": "execute_result"
    }
   ],
   "source": [
    "display_board(test_board)\n",
    "win_check(test_board,'X')"
   ]
  },
  {
   "cell_type": "code",
   "execution_count": 119,
   "id": "67b7775f-1bd8-4711-be90-d27d333f8333",
   "metadata": {},
   "outputs": [],
   "source": [
    "#STEP5: Write a function that uses the random module to randomly decide which player goes first.You want to lookup random.randint() \n",
    "#Return a string of which player  went first"
   ]
  },
  {
   "cell_type": "code",
   "execution_count": 39,
   "id": "31f39314-2a96-4329-af3f-12db8a69a3f7",
   "metadata": {},
   "outputs": [],
   "source": [
    "import random\n",
    "\n",
    "def choose_first():\n",
    "    flip=random.randint(0,1)\n",
    "    if flip==0:\n",
    "        return 'Player 1'\n",
    "    else:\n",
    "        return 'Player 2'"
   ]
  },
  {
   "cell_type": "code",
   "execution_count": null,
   "id": "903e0dd8-36b9-4533-b3fc-0bc52d2c4ddd",
   "metadata": {},
   "outputs": [],
   "source": [
    "#STEP6: Write a function that returns a boolean indicating whether a space on the board is freely available"
   ]
  },
  {
   "cell_type": "code",
   "execution_count": 41,
   "id": "501681b4-7fe1-4ffc-9b92-c09656521cb3",
   "metadata": {},
   "outputs": [],
   "source": [
    "def space_check(board, position):\n",
    "\n",
    "    return board[position]== ' '"
   ]
  },
  {
   "cell_type": "code",
   "execution_count": 127,
   "id": "d0ef210d-5ef3-4d4e-b086-321813309344",
   "metadata": {},
   "outputs": [],
   "source": [
    "#STEP7: Write a function that checks if the board is full and return a boolean value.True if full, False otherwise"
   ]
  },
  {
   "cell_type": "code",
   "execution_count": 43,
   "id": "31c6b24a-026f-4af9-901a-339e8c7f1330",
   "metadata": {},
   "outputs": [],
   "source": [
    "def full_board_check(board):\n",
    "    for i in range(1,10):\n",
    "        if space_check(board,i):\n",
    "            return False\n",
    "    #Board is full if we return true\n",
    "    return True"
   ]
  },
  {
   "cell_type": "code",
   "execution_count": 131,
   "id": "80444b32-203a-4168-b248-e19b9e95a194",
   "metadata": {},
   "outputs": [],
   "source": [
    "#STEP 8:Write a function that asks for a player's next position(as a number 1-9) and then uses the function from step 6 to check if it's a free position\n",
    "#If it is, then return the position for late use"
   ]
  },
  {
   "cell_type": "code",
   "execution_count": 45,
   "id": "d563c6e1-5567-49c4-b0ba-002c661776c4",
   "metadata": {},
   "outputs": [],
   "source": [
    "def player_choice(board):\n",
    "\n",
    "    position=0\n",
    "\n",
    "    while position not in [1,2,3,4,5,6,7,8,9] or not space_check(board,position):\n",
    "        position=int(input('Choose a position:(1-9): '))\n",
    "\n",
    "    return position"
   ]
  },
  {
   "cell_type": "code",
   "execution_count": 135,
   "id": "e744910c-3e54-4535-9974-4634c3c12751",
   "metadata": {},
   "outputs": [],
   "source": [
    "#STEP 9: Write a function that asks the player if they want to play again and returns a boolean True if they do want to play again"
   ]
  },
  {
   "cell_type": "code",
   "execution_count": 47,
   "id": "1e0fc2a8-8e1a-4cab-8fa8-70cf55098362",
   "metadata": {},
   "outputs": [],
   "source": [
    "def replay():\n",
    "\n",
    "    choice=input('Play again? Enter Yes or No')\n",
    "\n",
    "    return choice=='Yes'"
   ]
  },
  {
   "cell_type": "code",
   "execution_count": 139,
   "id": "3aa58936-2d0e-46e0-b36e-27ef42140f5f",
   "metadata": {},
   "outputs": [],
   "source": [
    "#STEP 10: Here comes the hard part! Use while loops and the functions you've made to run the game!"
   ]
  },
  {
   "cell_type": "code",
   "execution_count": 49,
   "id": "03337886-6308-4a1b-9e71-d298c82c2b09",
   "metadata": {},
   "outputs": [
    {
     "name": "stdout",
     "output_type": "stream",
     "text": [
      "   |   |\n",
      "   |   |  \n",
      "   |   |\n",
      "-----------\n",
      "   |   |\n",
      "   |   |  \n",
      "   |   |\n",
      "-----------\n",
      "   |   |\n",
      "   |   |  \n",
      "   |   |\n"
     ]
    },
    {
     "name": "stdin",
     "output_type": "stream",
     "text": [
      "Choose a position:(1-9):  414\n",
      "Choose a position:(1-9):  41\n",
      "Choose a position:(1-9):  k\n"
     ]
    },
    {
     "ename": "ValueError",
     "evalue": "invalid literal for int() with base 10: 'k'",
     "output_type": "error",
     "traceback": [
      "\u001b[1;31m---------------------------------------------------------------------------\u001b[0m",
      "\u001b[1;31mValueError\u001b[0m                                Traceback (most recent call last)",
      "Cell \u001b[1;32mIn[49], line 54\u001b[0m\n\u001b[0;32m     52\u001b[0m display_board(the_board)\n\u001b[0;32m     53\u001b[0m \u001b[38;5;66;03m#Choose a position\u001b[39;00m\n\u001b[1;32m---> 54\u001b[0m position\u001b[38;5;241m=\u001b[39mplayer_choice(the_board)\n\u001b[0;32m     55\u001b[0m \u001b[38;5;66;03m#Place the marker on the position\u001b[39;00m\n\u001b[0;32m     56\u001b[0m place_marker\u001b[38;5;241m=\u001b[39m(the_board,player2_marker,position)\n",
      "Cell \u001b[1;32mIn[45], line 6\u001b[0m, in \u001b[0;36mplayer_choice\u001b[1;34m(board)\u001b[0m\n\u001b[0;32m      3\u001b[0m position\u001b[38;5;241m=\u001b[39m\u001b[38;5;241m0\u001b[39m\n\u001b[0;32m      5\u001b[0m \u001b[38;5;28;01mwhile\u001b[39;00m position \u001b[38;5;129;01mnot\u001b[39;00m \u001b[38;5;129;01min\u001b[39;00m [\u001b[38;5;241m1\u001b[39m,\u001b[38;5;241m2\u001b[39m,\u001b[38;5;241m3\u001b[39m,\u001b[38;5;241m4\u001b[39m,\u001b[38;5;241m5\u001b[39m,\u001b[38;5;241m6\u001b[39m,\u001b[38;5;241m7\u001b[39m,\u001b[38;5;241m8\u001b[39m,\u001b[38;5;241m9\u001b[39m] \u001b[38;5;129;01mor\u001b[39;00m \u001b[38;5;129;01mnot\u001b[39;00m space_check(board,position):\n\u001b[1;32m----> 6\u001b[0m     position\u001b[38;5;241m=\u001b[39m\u001b[38;5;28mint\u001b[39m(\u001b[38;5;28minput\u001b[39m(\u001b[38;5;124m'\u001b[39m\u001b[38;5;124mChoose a position:(1-9): \u001b[39m\u001b[38;5;124m'\u001b[39m))\n\u001b[0;32m      8\u001b[0m \u001b[38;5;28;01mreturn\u001b[39;00m position\n",
      "\u001b[1;31mValueError\u001b[0m: invalid literal for int() with base 10: 'k'"
     ]
    }
   ],
   "source": [
    "#While Loop to keep running the game\n",
    "print('Welcome to TIC TAC TOE')\n",
    "\n",
    "while True:\n",
    "    #PLAY THE GAME\n",
    "\n",
    "    ##SET Everything Up (BOARD, Who First, Choose Markers X,O)\n",
    "    the_board=[' ']*10\n",
    "    \n",
    "    player1_marker,player2_marker=player_input()\n",
    "\n",
    "    turn=choose_first()\n",
    "    print(turn+' will go first.')\n",
    "\n",
    "    play_game=input('Ready to Play? y or n? ')\n",
    "    if play_game=='y':\n",
    "        game_on=True\n",
    "    else:\n",
    "        game_on=False\n",
    "    \n",
    "    ##Game Play\n",
    "\n",
    "    while game_on:\n",
    "\n",
    "        if turn=='Player 1':\n",
    "            #Show the board\n",
    "            display_board(the_board)\n",
    "            #Choose a position\n",
    "            position=player_choice(the_board)\n",
    "            #Place the marker on the position\n",
    "            place_marker=(the_board,player1_marker,position)\n",
    "\n",
    "            #Check if they won\n",
    "            if win_check(the_board,player1_marker):\n",
    "                display_board(the_board)\n",
    "                print('PLAYER 1 HAS WON !!')\n",
    "                game_on=False\n",
    "            else:\n",
    "                if full_board_check(the_board):\n",
    "                    display_board(the_board)\n",
    "                    print('TIE GAME!')\n",
    "                    break\n",
    "                else:\n",
    "                    turn='Player 2'\n",
    "            #Or Check if there is a tie\n",
    "\n",
    "            #No tie and no Win? Then next player's turn\n",
    "\n",
    "    ###Player One Turn\n",
    "        else:\n",
    "            #Show the board\n",
    "            display_board(the_board)\n",
    "            #Choose a position\n",
    "            position=player_choice(the_board)\n",
    "            #Place the marker on the position\n",
    "            place_marker=(the_board,player2_marker,position)\n",
    "\n",
    "            #Check if they won\n",
    "            if win_check(the_board,player2_marker):\n",
    "                display_board(the_board)\n",
    "                print('PLAYER 2 HAS WON !!')\n",
    "                game_on=False\n",
    "            else:\n",
    "                if full_board_check(the_board):\n",
    "                    display_board(the_board)\n",
    "                    print('TIE GAME!')\n",
    "                    break\n",
    "                else:\n",
    "                    turn='Player 1'\n",
    "                    \n",
    "\n",
    "    if not replay():\n",
    "        break\n",
    "\n",
    "#Break out of the While Loop on replay()"
   ]
  },
  {
   "cell_type": "code",
   "execution_count": 53,
   "id": "e1d3af4e-a9c7-44b8-a65c-b02efb5454fb",
   "metadata": {},
   "outputs": [
    {
     "name": "stdout",
     "output_type": "stream",
     "text": [
      "Welcome to Tic Tac Toe!\n"
     ]
    },
    {
     "name": "stdin",
     "output_type": "stream",
     "text": [
      "Player 1 - Please pick a marker 'X' or 'O':  X\n"
     ]
    },
    {
     "name": "stdout",
     "output_type": "stream",
     "text": [
      "Player 2 will go first\n",
      "Player 2 your turn\n",
      "   |   |\n",
      "   |   |  \n",
      "   |   |\n",
      "-----------\n",
      "   |   |\n",
      "   |   |  \n",
      "   |   |\n",
      "-----------\n",
      "   |   |\n",
      "   |   |  \n",
      "   |   |\n"
     ]
    },
    {
     "name": "stdin",
     "output_type": "stream",
     "text": [
      "Choose a position (1-9):  1\n"
     ]
    },
    {
     "name": "stdout",
     "output_type": "stream",
     "text": [
      "Player 1 your turn\n",
      "   |   |\n",
      "   |   |  \n",
      "   |   |\n",
      "-----------\n",
      "   |   |\n",
      "   |   |  \n",
      "   |   |\n",
      "-----------\n",
      "   |   |\n",
      " O |   |  \n",
      "   |   |\n"
     ]
    },
    {
     "name": "stdin",
     "output_type": "stream",
     "text": [
      "Choose a position (1-9):  5\n"
     ]
    },
    {
     "name": "stdout",
     "output_type": "stream",
     "text": [
      "Player 2 your turn\n",
      "   |   |\n",
      "   |   |  \n",
      "   |   |\n",
      "-----------\n",
      "   |   |\n",
      "   | X |  \n",
      "   |   |\n",
      "-----------\n",
      "   |   |\n",
      " O |   |  \n",
      "   |   |\n"
     ]
    },
    {
     "name": "stdin",
     "output_type": "stream",
     "text": [
      "Choose a position (1-9):  9\n"
     ]
    },
    {
     "name": "stdout",
     "output_type": "stream",
     "text": [
      "Player 1 your turn\n",
      "   |   |\n",
      "   |   | O\n",
      "   |   |\n",
      "-----------\n",
      "   |   |\n",
      "   | X |  \n",
      "   |   |\n",
      "-----------\n",
      "   |   |\n",
      " O |   |  \n",
      "   |   |\n"
     ]
    },
    {
     "name": "stdin",
     "output_type": "stream",
     "text": [
      "Choose a position (1-9):  4\n"
     ]
    },
    {
     "name": "stdout",
     "output_type": "stream",
     "text": [
      "Player 2 your turn\n",
      "   |   |\n",
      "   |   | O\n",
      "   |   |\n",
      "-----------\n",
      "   |   |\n",
      " X | X |  \n",
      "   |   |\n",
      "-----------\n",
      "   |   |\n",
      " O |   |  \n",
      "   |   |\n"
     ]
    },
    {
     "name": "stdin",
     "output_type": "stream",
     "text": [
      "Choose a position (1-9):  6\n"
     ]
    },
    {
     "name": "stdout",
     "output_type": "stream",
     "text": [
      "Player 1 your turn\n",
      "   |   |\n",
      "   |   | O\n",
      "   |   |\n",
      "-----------\n",
      "   |   |\n",
      " X | X | O\n",
      "   |   |\n",
      "-----------\n",
      "   |   |\n",
      " O |   |  \n",
      "   |   |\n"
     ]
    },
    {
     "name": "stdin",
     "output_type": "stream",
     "text": [
      "Choose a position (1-9):  7\n"
     ]
    },
    {
     "name": "stdout",
     "output_type": "stream",
     "text": [
      "Player 2 your turn\n",
      "   |   |\n",
      " X |   | O\n",
      "   |   |\n",
      "-----------\n",
      "   |   |\n",
      " X | X | O\n",
      "   |   |\n",
      "-----------\n",
      "   |   |\n",
      " O |   |  \n",
      "   |   |\n"
     ]
    },
    {
     "name": "stdin",
     "output_type": "stream",
     "text": [
      "Choose a position (1-9):  3\n"
     ]
    },
    {
     "name": "stdout",
     "output_type": "stream",
     "text": [
      "   |   |\n",
      " X |   | O\n",
      "   |   |\n",
      "-----------\n",
      "   |   |\n",
      " X | X | O\n",
      "   |   |\n",
      "-----------\n",
      "   |   |\n",
      " O |   | O\n",
      "   |   |\n",
      "Player 2 has won!\n"
     ]
    },
    {
     "name": "stdin",
     "output_type": "stream",
     "text": [
      "Do you want to play again? Enter Yes or No:  2\n"
     ]
    }
   ],
   "source": [
    "import random\n",
    "\n",
    "def display_board(board):\n",
    "    \"\"\"Display the Tic Tac Toe Board\n",
    "            board(list): Range of 10, index 0 not used\n",
    "    \"\"\"\n",
    "    print('   |   |')\n",
    "    print(' '+board[7]+' | '+ board[8]+' | '+board[9])\n",
    "    print('   |   |')\n",
    "    print('-----------')\n",
    "    print('   |   |')\n",
    "    print(' '+board[4]+' | '+ board[5]+' | '+board[6])\n",
    "    print('   |   |')\n",
    "    print('-----------')\n",
    "    print('   |   |')\n",
    "    print(' '+board[1]+' | '+ board[2]+' | '+board[3])\n",
    "    print('   |   |')\n",
    "def player_input():\n",
    "    \"\"\"Assign the player marker, either X or O. Player 1 to choose.\n",
    "            return(tuple): (player1 marker, player2 marker)\n",
    "    \"\"\"\n",
    "    marker = \"\"\n",
    "    while not (marker == \"X\" or marker == \"O\"):\n",
    "        marker = input(\"Player 1 - Please pick a marker 'X' or 'O': \")\n",
    "\n",
    "    if marker == \"X\":\n",
    "        return ('X','O')\n",
    "    else:\n",
    "        return ('O','X')\n",
    "\n",
    "def place_marker(board, marker, position):\n",
    "    \"\"\"Place the marker of the player in the corresponding position on the board\n",
    "            board(list)\n",
    "            marker(string): Either 'X' or 'O'\n",
    "            position(integer): Between 1 and 9\n",
    "    \"\"\"\n",
    "    board[position] = marker\n",
    "\n",
    "def win_check(board, mark):\n",
    "    \"\"\"Check if either of the players have won. Need to check if a marker is the same\n",
    "        across any rows, columns or diagonals\n",
    "            return(bool): True if match\n",
    "    \"\"\"\n",
    "#Re-write as for loop\n",
    "    return ((board[7] == board[8] == board[9] == mark) or\n",
    "            (board[4] == board[5] == board[6] == mark) or\n",
    "            (board[1] == board[2] == board[3] == mark) or\n",
    "\n",
    "            (board[1] == board[4] == board[7] == mark) or\n",
    "            (board[2] == board[5] == board[8] == mark) or\n",
    "            (board[3] == board[6] == board[9] == mark) or\n",
    "\n",
    "            (board[1] == board[5] == board[9] == mark) or\n",
    "            (board[3] == board[5] == board[7] == mark))\n",
    "\n",
    "def choose_first():\n",
    "    \"\"\"Randomly choose which player will go first\"\"\"\n",
    "    if random.randint(0,1) == 0:\n",
    "        return \"Player 2\"\n",
    "    else:\n",
    "        return \"Player 1\"\n",
    "\n",
    "def space_check(board, position):\n",
    "    \"\"\"Check if a space is empty\n",
    "            board(list)\n",
    "            position(int): Between 1 and 9\n",
    "    \"\"\"\n",
    "    return board[position] == \" \"\n",
    "\n",
    "def full_board_check(board):\n",
    "    \"\"\"Check if the board is full\n",
    "            return(bool): True if all spaces are empty\n",
    "    \"\"\"\n",
    "    for i in range(1,10):\n",
    "        if space_check(board, i):\n",
    "            return False\n",
    "    return True\n",
    "\n",
    "def player_choice(board):\n",
    "    \"\"\"Player to choose position. Must be in range of 1-9 where a space is empty\n",
    "            return(int): Valid position number\n",
    "    \"\"\"\n",
    "    position = 0\n",
    "    while position not in [1,2,3,4,5,6,7,8,9] or not space_check(board,position):\n",
    "        position = int(input('Choose a position (1-9): '))\n",
    "    return position\n",
    "\n",
    "def replay():\n",
    "    \"\"\"When the game is over, ask the play if they want to play again\"\"\"\n",
    "    choice = input(\"Do you want to play again? Enter Yes or No: \")\n",
    "    return choice == 'Yes'\n",
    "\n",
    "\n",
    "def main():\n",
    "    print(\"Welcome to Tic Tac Toe!\")\n",
    "\n",
    "    while True:\n",
    "        # Set up the board\n",
    "        the_board = [\" \"] * 10\n",
    "        player1_marker, player2_marker = player_input()\n",
    "\n",
    "        # Determine who will go first\n",
    "        turn = choose_first()\n",
    "        print(turn + \" will go first\")\n",
    "\n",
    "        #start the game\n",
    "        game_on = True\n",
    "        while game_on:\n",
    "            if turn == \"Player 1\":\n",
    "                print(turn + \" your turn\")\n",
    "                #Show the board, choose position, place marker\n",
    "                display_board(the_board)\n",
    "                position = player_choice(the_board)\n",
    "                place_marker(the_board, player1_marker, position)\n",
    "\n",
    "                #Check if they won\n",
    "                if win_check(the_board,player1_marker):\n",
    "                    display_board(the_board)\n",
    "                    print(\"Player 1 has won!\")\n",
    "                    game_on = False\n",
    "                #Check if there is a tie\n",
    "                else:\n",
    "                    if full_board_check(the_board):\n",
    "                        display_board(the_board)\n",
    "                        print(\"The game is a tie\")\n",
    "                        break\n",
    "                    # Not win or draw - Player 2 turn\n",
    "                    else:\n",
    "                        turn = \"Player 2\"\n",
    "\n",
    "            else:\n",
    "                # Player 2 turn - same\n",
    "                print(turn + \" your turn\")\n",
    "                display_board(the_board)\n",
    "                position = player_choice(the_board)\n",
    "                place_marker(the_board, player2_marker, position)\n",
    "\n",
    "                if win_check(the_board, player2_marker):\n",
    "                    display_board(the_board)\n",
    "                    print(\"Player 2 has won!\")\n",
    "                    game_on = False\n",
    "                else:\n",
    "                    if full_board_check(the_board):\n",
    "                        display_board(the_board)\n",
    "                        print(\"The game is a tie\")\n",
    "                        break\n",
    "                    else:\n",
    "                        turn = \"Player 1\"\n",
    "\n",
    "        if not replay():\n",
    "                break\n",
    "\n",
    "main()"
   ]
  },
  {
   "cell_type": "code",
   "execution_count": null,
   "id": "e8654ebb-8474-4225-bf84-fdb8231ec64c",
   "metadata": {},
   "outputs": [],
   "source": []
  }
 ],
 "metadata": {
  "kernelspec": {
   "display_name": "Python 3 (ipykernel)",
   "language": "python",
   "name": "python3"
  },
  "language_info": {
   "codemirror_mode": {
    "name": "ipython",
    "version": 3
   },
   "file_extension": ".py",
   "mimetype": "text/x-python",
   "name": "python",
   "nbconvert_exporter": "python",
   "pygments_lexer": "ipython3",
   "version": "3.11.7"
  }
 },
 "nbformat": 4,
 "nbformat_minor": 5
}
